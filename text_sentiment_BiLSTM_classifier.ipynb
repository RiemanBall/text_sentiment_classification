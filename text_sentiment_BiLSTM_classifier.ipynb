{
 "cells": [
  {
   "cell_type": "markdown",
   "metadata": {
    "id": "r67y9UpchZ38"
   },
   "source": [
    "# Recurrent Neural Networks for text sentiment classification\n",
    "\n",
    "In this notebook, we will use the Twitter dataset for sentiment classificatoin using Bi-LSTM. Given a sentence, we are going to classify whether this sentence has negative meaning. Negative meaning will have label == 0, otherwise will have label == 1."
   ]
  },
  {
   "cell_type": "code",
   "execution_count": 1,
   "metadata": {
    "id": "zxMj1LNnAsDf"
   },
   "outputs": [],
   "source": [
    "import os\n",
    "from pathlib import Path\n",
    "import matplotlib.pyplot as plt\n",
    "import tensorflow as tf\n",
    "import numpy as np\n",
    "from sklearn.model_selection import train_test_split\n",
    "\n",
    "import w2v\n",
    "from utils import *\n",
    "from preprocess import Preprocess\n",
    "from model import buildModel, testing, BiLstmTuner\n",
    "\n",
    "AUTOTUNE = tf.data.experimental.AUTOTUNE\n",
    "\n",
    "%load_ext autoreload\n",
    "%autoreload 2"
   ]
  },
  {
   "cell_type": "code",
   "execution_count": 2,
   "metadata": {
    "colab": {
     "base_uri": "https://localhost:8080/"
    },
    "executionInfo": {
     "elapsed": 1217,
     "status": "ok",
     "timestamp": 1604897610868,
     "user": {
      "displayName": "Meng-Hao Li",
      "photoUrl": "",
      "userId": "12054031135643111000"
     },
     "user_tz": 480
    },
    "id": "SkOXr7KDsBJn",
    "outputId": "fd9cd6ad-8370-485f-dac6-d1eda6736b12"
   },
   "outputs": [
    {
     "name": "stdout",
     "output_type": "stream",
     "text": [
      "/home/meng-hao/wkspaces/Machine_Learning/repos/text_sentiment_classification\n"
     ]
    }
   ],
   "source": [
    "path_prefix = Path.cwd()\n",
    "print(path_prefix)"
   ]
  },
  {
   "cell_type": "code",
   "execution_count": 3,
   "metadata": {
    "colab": {
     "base_uri": "https://localhost:8080/"
    },
    "executionInfo": {
     "elapsed": 1217,
     "status": "ok",
     "timestamp": 1604897610868,
     "user": {
      "displayName": "Meng-Hao Li",
      "photoUrl": "",
      "userId": "12054031135643111000"
     },
     "user_tz": 480
    },
    "id": "SkOXr7KDsBJn",
    "outputId": "fd9cd6ad-8370-485f-dac6-d1eda6736b12"
   },
   "outputs": [],
   "source": [
    "data_path = path_prefix.joinpath('data/')\n",
    "model_path = path_prefix.joinpath('model/')\n",
    "data_path.mkdir(exist_ok = True)\n",
    "model_path.mkdir(exist_ok = True)"
   ]
  },
  {
   "cell_type": "markdown",
   "metadata": {
    "id": "9YrAlczfM_w6"
   },
   "source": [
    "## Download Dataset\n",
    "[Dataset](https://www.kaggle.com/c/ml2020spring-hw4)\n",
    "\n",
    "There are three .txt files -- training_label.txt、training_nolabel.txt、testing_data.txt\n",
    "\n",
    "- training_label.txt: training data with labels（0 or 1)\n",
    "    - +++$+++ is separating symbols\n",
    "    - e.g., 1 +++$+++ are wtf ... awww thanks !\n",
    "\n",
    "- training_nolabel.txt：training data without labels\n",
    "    - We will use this training data for semi-supervised learning\n",
    "    - ex: hates being this burnt !! ouch\n",
    "\n",
    "- testing_data.txt： Predict with testing data \n",
    "\n",
    "    >id,text\n",
    "\n",
    "    >0,my dog ate our dinner . no , seriously ... he ate it .\n",
    "\n",
    "    >1,omg last day sooon n of primary noooooo x im gona be swimming out of school wif the amount of tears am gona cry\n",
    "\n",
    "    >2,stupid boys .. they ' re so .. stupid !"
   ]
  },
  {
   "cell_type": "markdown",
   "metadata": {
    "id": "HSyhKF2iwrcl"
   },
   "source": [
    "### Download dataset if not have any"
   ]
  },
  {
   "cell_type": "code",
   "execution_count": 4,
   "metadata": {
    "colab": {
     "base_uri": "https://localhost:8080/"
    },
    "executionInfo": {
     "elapsed": 886,
     "status": "ok",
     "timestamp": 1604897685825,
     "user": {
      "displayName": "Meng-Hao Li",
      "photoUrl": "",
      "userId": "12054031135643111000"
     },
     "user_tz": 480
    },
    "id": "x2gwKORmuViJ",
    "outputId": "be82d0fa-44d0-4b70-ab15-9c400a39a84f"
   },
   "outputs": [
    {
     "name": "stdout",
     "output_type": "stream",
     "text": [
      "/home/meng-hao/wkspaces/Machine_Learning/repos/text_sentiment_classification/data\n",
      "data is all set\n",
      "/home/meng-hao/wkspaces/Machine_Learning/repos/text_sentiment_classification\n"
     ]
    }
   ],
   "source": [
    "%cd $data_path\n",
    "\n",
    "if not os.path.exists('training_label.txt') or\\\n",
    "    not os.path.exists('training_nolabel.txt') or\\\n",
    "    not os.path.exists('testing_data.txt'):\n",
    "    print(\"Dataset is incompleted . Downloading\")\n",
    "    # Method1\n",
    "    !wget --no-check-certificate 'https://drive.google.com/uc?export=download&id=1dPHIl8ZnfDz_fxNd2ZeBYedTat2lfxcO' -O 'training_label.txt'\n",
    "    !wget --no-check-certificate 'https://drive.google.com/uc?export=download&id=1x1rJOX_ETqnOZjdMAbEE2pqIjRNa8xcc' -O 'training_nolabel.txt'\n",
    "    !wget --no-check-certificate 'https://drive.google.com/uc?export=download&id=16CtnQwSDCob9xmm6EdHHR7PNFNiOrQ30' -O 'testing_data.txt'\n",
    "\n",
    "    # Method2\n",
    "    # !gdown --id '1lz0Wtwxsh5YCPdqQ3E3l_nbfJT1N13V8' --output data.zip\n",
    "    # !unzip data.zip\n",
    "    # !ls\n",
    "else:\n",
    "    print(\"data is all set\")\n",
    "   \n",
    "%cd $path_prefix"
   ]
  },
  {
   "cell_type": "code",
   "execution_count": 5,
   "metadata": {
    "id": "8hDIokoP6464"
   },
   "outputs": [],
   "source": [
    "# this is for filtering the warnings\n",
    "import warnings\n",
    "warnings.filterwarnings('ignore')"
   ]
  },
  {
   "cell_type": "markdown",
   "metadata": {
    "id": "oYE8UYQsNIxM"
   },
   "source": [
    "## Train Word2Vec Model"
   ]
  },
  {
   "cell_type": "code",
   "execution_count": 6,
   "metadata": {
    "id": "cgGWaF8_2S3q"
   },
   "outputs": [
    {
     "name": "stdout",
     "output_type": "stream",
     "text": [
      "Pretrained Word2Vec model exists\n"
     ]
    }
   ],
   "source": [
    "w2v_path = path_prefix.joinpath('model/w2v_all.model') \n",
    "\n",
    "if not w2v_path.exists():\n",
    "    print(\"Train Word2Vec model via gensim\")\n",
    "    data_folder_path = './data'\n",
    "    model_folder_path = './model'\n",
    "\n",
    "    w2v.main(data_folder_path, model_folder_path)\n",
    "else:\n",
    "    print(\"Pretrained Word2Vec model exists\")"
   ]
  },
  {
   "cell_type": "markdown",
   "metadata": {},
   "source": [
    "## Preprocess dataset"
   ]
  },
  {
   "cell_type": "markdown",
   "metadata": {},
   "source": [
    "### Setup paths and configurations"
   ]
  },
  {
   "cell_type": "code",
   "execution_count": 7,
   "metadata": {
    "id": "EztIWqCmlZof"
   },
   "outputs": [],
   "source": [
    "# Preset the paths to dataset\n",
    "train_with_label = os.path.join(path_prefix, 'data/training_label.txt')\n",
    "train_no_label = os.path.join(path_prefix, 'data/training_nolabel.txt')\n",
    "testing_data = os.path.join(path_prefix, 'data/testing_data.txt')\n",
    "\n",
    "# Configuration\n",
    "sen_len = 20\n",
    "batch_size = 128"
   ]
  },
  {
   "cell_type": "markdown",
   "metadata": {},
   "source": [
    "### Read dataset from folder"
   ]
  },
  {
   "cell_type": "code",
   "execution_count": 8,
   "metadata": {
    "id": "EztIWqCmlZof"
   },
   "outputs": [
    {
     "name": "stdout",
     "output_type": "stream",
     "text": [
      "loading training data ...\n"
     ]
    }
   ],
   "source": [
    "# Read 'training_label.txt' and 'training_nolabel.txt'\n",
    "print(\"loading training data ...\")\n",
    "X_train_label, y_train_label = load_training_data(train_with_label)\n",
    "X_train, X_val, y_train, y_val = train_test_split(X_train_label, \n",
    "                                                  y_train_label, \n",
    "                                                  test_size = 0.1)\n",
    "\n",
    "train_x_no_label = load_training_data(train_no_label)"
   ]
  },
  {
   "cell_type": "code",
   "execution_count": 31,
   "metadata": {},
   "outputs": [
    {
     "name": "stdout",
     "output_type": "stream",
     "text": [
      "Total number of the training data with label: 180000\n",
      "Total number of the training data without label: 1178614\n",
      "Total number of the validation data: 20000\n",
      "Positive rate in training dataset: 0.5007222222222222\n",
      "Positive rate in validation dataset: 0.49575\n"
     ]
    }
   ],
   "source": [
    "print(f\"Total number of the training data with label: {len(X_train)}\")\n",
    "print(f\"Total number of the training data without label: {len(train_x_no_label)}\")\n",
    "print(f\"Total number of the validation data: {len(X_val)}\")\n",
    "\n",
    "print(f\"Positive rate in training dataset: {np.sum(y_train) / len(y_train)}\")\n",
    "print(f\"Positive rate in validation dataset: {np.sum(y_val) / len(y_val)}\")"
   ]
  },
  {
   "cell_type": "markdown",
   "metadata": {},
   "source": [
    "### Build the preprocessor"
   ]
  },
  {
   "cell_type": "code",
   "execution_count": 10,
   "metadata": {
    "id": "EztIWqCmlZof"
   },
   "outputs": [
    {
     "name": "stdout",
     "output_type": "stream",
     "text": [
      "Get embedding ...\n",
      "loading word to vec model ...\n",
      "total words: 55779\n",
      "\n",
      "\n"
     ]
    }
   ],
   "source": [
    "# Preprocess the training data\n",
    "preprocessor = Preprocess(sen_len, w2v_path = str(w2v_path))\n",
    "embedding = preprocessor.make_embedding(load = True)\n",
    "X_train_idx = preprocessor.sentences_word2idx(X_train)\n",
    "X_val_idx = preprocessor.sentences_word2idx(X_val)"
   ]
  },
  {
   "cell_type": "code",
   "execution_count": 11,
   "metadata": {},
   "outputs": [
    {
     "name": "stdout",
     "output_type": "stream",
     "text": [
      "Pretrained embedding matrix shape: (55779, 250)\n"
     ]
    }
   ],
   "source": [
    "print(f\"Pretrained embedding matrix shape: {embedding.shape}\")"
   ]
  },
  {
   "cell_type": "markdown",
   "metadata": {},
   "source": [
    "### Preprocess training and validation datasets"
   ]
  },
  {
   "cell_type": "code",
   "execution_count": 12,
   "metadata": {
    "id": "EztIWqCmlZof"
   },
   "outputs": [],
   "source": [
    "X_train_idx_dataset = tf.data.Dataset.from_tensor_slices(X_train_idx)\n",
    "y_train_dataset = tf.data.Dataset.from_tensor_slices(y_train)\n",
    "train_dataset = tf.data.Dataset.zip((X_train_idx_dataset, y_train_dataset))\n",
    "\n",
    "X_val_idx_dataset = tf.data.Dataset.from_tensor_slices(X_val_idx)\n",
    "y_val_dataset = tf.data.Dataset.from_tensor_slices(y_val)\n",
    "val_dataset = tf.data.Dataset.zip((X_val_idx_dataset, y_val_dataset))\n",
    "\n",
    "train_dataset = train_dataset.batch(batch_size)\n",
    "val_dataset   = val_dataset.batch(batch_size)\n",
    "\n",
    "train_dataset = train_dataset.cache().prefetch(AUTOTUNE)\n",
    "val_dataset   = val_dataset.cache().prefetch(AUTOTUNE)"
   ]
  },
  {
   "cell_type": "code",
   "execution_count": 13,
   "metadata": {},
   "outputs": [
    {
     "name": "stdout",
     "output_type": "stream",
     "text": [
      "x_batch shape: (128, 20)\n",
      "y_batch shape: (128,)\n"
     ]
    }
   ],
   "source": [
    "for x_batch, y_batch in train_dataset.take(1):\n",
    "    print(f\"x_batch shape: {x_batch.shape}\")\n",
    "    print(f\"y_batch shape: {y_batch.shape}\")    "
   ]
  },
  {
   "cell_type": "markdown",
   "metadata": {},
   "source": [
    "## Train a bidirectional LSTM model"
   ]
  },
  {
   "cell_type": "markdown",
   "metadata": {},
   "source": [
    "### Method1"
   ]
  },
  {
   "cell_type": "markdown",
   "metadata": {},
   "source": [
    "#### Build the model"
   ]
  },
  {
   "cell_type": "code",
   "execution_count": 14,
   "metadata": {},
   "outputs": [],
   "source": [
    "train_embedding = False # fix embedding during training\n",
    "hidden_dim1 = 64\n",
    "hidden_dim2 = 64\n",
    "dp_rate = 0.5\n",
    "lr = 0.001\n",
    "epochs = 5"
   ]
  },
  {
   "cell_type": "code",
   "execution_count": 15,
   "metadata": {
    "id": "EztIWqCmlZof"
   },
   "outputs": [
    {
     "name": "stdout",
     "output_type": "stream",
     "text": [
      "Model: \"functional_1\"\n",
      "_________________________________________________________________\n",
      "Layer (type)                 Output Shape              Param #   \n",
      "=================================================================\n",
      "input_1 (InputLayer)         [(None, 20)]              0         \n",
      "_________________________________________________________________\n",
      "embedding (Embedding)        (None, 20, 250)           13944750  \n",
      "_________________________________________________________________\n",
      "dropout (Dropout)            (None, 20, 250)           0         \n",
      "_________________________________________________________________\n",
      "bidirectional (Bidirectional (None, 20, 128)           161280    \n",
      "_________________________________________________________________\n",
      "layer_normalization (LayerNo (None, 20, 128)           40        \n",
      "_________________________________________________________________\n",
      "bidirectional_1 (Bidirection (None, 128)               98816     \n",
      "_________________________________________________________________\n",
      "layer_normalization_1 (Layer (None, 128)               256       \n",
      "_________________________________________________________________\n",
      "dense (Dense)                (None, 1)                 129       \n",
      "=================================================================\n",
      "Total params: 14,205,271\n",
      "Trainable params: 260,521\n",
      "Non-trainable params: 13,944,750\n",
      "_________________________________________________________________\n"
     ]
    }
   ],
   "source": [
    "model = buildModel(embedding, train_embedding, sen_len, hidden_dim1, hidden_dim2, dp_rate, lr)\n",
    "\n",
    "model.summary()"
   ]
  },
  {
   "cell_type": "markdown",
   "metadata": {},
   "source": [
    "#### Train the model"
   ]
  },
  {
   "cell_type": "code",
   "execution_count": 16,
   "metadata": {},
   "outputs": [],
   "source": [
    "checkpoint_filepath = os.path.join(path_prefix, 'ckpt/')\n",
    "model_checkpoint_callback = tf.keras.callbacks.ModelCheckpoint(\n",
    "    filepath=checkpoint_filepath,\n",
    "    save_best_only=True)"
   ]
  },
  {
   "cell_type": "code",
   "execution_count": null,
   "metadata": {},
   "outputs": [],
   "source": [
    "history = model.fit(train_dataset, \n",
    "                  validation_data=val_dataset, \n",
    "                  epochs = epochs, \n",
    "                  callbacks=[model_checkpoint_callback])"
   ]
  },
  {
   "cell_type": "markdown",
   "metadata": {},
   "source": [
    "### Method2 - with Kerastuner"
   ]
  },
  {
   "cell_type": "code",
   "execution_count": 18,
   "metadata": {},
   "outputs": [
    {
     "data": {
      "text/html": [
       "<span style=\"color:#4527A0\"><h1 style=\"font-size:18px\">Trial complete</h1></span>"
      ],
      "text/plain": [
       "<IPython.core.display.HTML object>"
      ]
     },
     "metadata": {},
     "output_type": "display_data"
    },
    {
     "data": {
      "text/html": [
       "<span style=\"color:#4527A0\"><h1 style=\"font-size:18px\">Trial summary</h1></span>"
      ],
      "text/plain": [
       "<IPython.core.display.HTML object>"
      ]
     },
     "metadata": {},
     "output_type": "display_data"
    },
    {
     "data": {
      "text/html": [
       "<span style=\"color:cyan\"> |-Trial ID: 9fb96e5fae6ca8f956829c8ec70c26ab</span>"
      ],
      "text/plain": [
       "<IPython.core.display.HTML object>"
      ]
     },
     "metadata": {},
     "output_type": "display_data"
    },
    {
     "data": {
      "text/html": [
       "<span style=\"color:cyan\"> |-Score: 0.7615333199501038</span>"
      ],
      "text/plain": [
       "<IPython.core.display.HTML object>"
      ]
     },
     "metadata": {},
     "output_type": "display_data"
    },
    {
     "data": {
      "text/html": [
       "<span style=\"color:cyan\"> |-Best step: 0</span>"
      ],
      "text/plain": [
       "<IPython.core.display.HTML object>"
      ]
     },
     "metadata": {},
     "output_type": "display_data"
    },
    {
     "data": {
      "text/html": [
       "<span style=\"color:#7E57C2\"><h2 style=\"font-size:16px\">Hyperparameters:</h2></span>"
      ],
      "text/plain": [
       "<IPython.core.display.HTML object>"
      ]
     },
     "metadata": {},
     "output_type": "display_data"
    },
    {
     "data": {
      "text/html": [
       "<span style=\"color:cyan\"> |-dp: 0.6396740639549805</span>"
      ],
      "text/plain": [
       "<IPython.core.display.HTML object>"
      ]
     },
     "metadata": {},
     "output_type": "display_data"
    },
    {
     "data": {
      "text/html": [
       "<span style=\"color:blue\"> |-lr: 0.004125678102025594</span>"
      ],
      "text/plain": [
       "<IPython.core.display.HTML object>"
      ]
     },
     "metadata": {},
     "output_type": "display_data"
    },
    {
     "data": {
      "text/html": [
       "<span style=\"color:cyan\"> |-lstm1: 192</span>"
      ],
      "text/plain": [
       "<IPython.core.display.HTML object>"
      ]
     },
     "metadata": {},
     "output_type": "display_data"
    },
    {
     "data": {
      "text/html": [
       "<span style=\"color:blue\"> |-lstm2: 160</span>"
      ],
      "text/plain": [
       "<IPython.core.display.HTML object>"
      ]
     },
     "metadata": {},
     "output_type": "display_data"
    },
    {
     "name": "stdout",
     "output_type": "stream",
     "text": [
      "INFO:tensorflow:Oracle triggered exit\n"
     ]
    }
   ],
   "source": [
    "import IPython\n",
    "from kerastuner.tuners import RandomSearch\n",
    "\n",
    "class ClearTrainingOutput(tf.keras.callbacks.Callback):\n",
    "    def on_train_end(*args, **kwargs):\n",
    "        IPython.display.clear_output(wait = True)\n",
    "    \n",
    "tuner = RandomSearch(\n",
    "    BiLstmTuner(embedding, train_embedding, sen_len),\n",
    "    objective='val_accuracy',\n",
    "    max_trials = 10,\n",
    "    executions_per_trial = 3,\n",
    "    directory = os.path.join(path_prefix, 'tuner_dir'),\n",
    "    project_name = 'tsc')\n",
    "\n",
    "tuner.search(train_dataset,\n",
    "             epochs = 5,\n",
    "             validation_data = val_dataset,\n",
    "             verbose = 0,\n",
    "             callbacks = [ClearTrainingOutput()],)"
   ]
  },
  {
   "cell_type": "markdown",
   "metadata": {},
   "source": [
    "### Load the best model"
   ]
  },
  {
   "cell_type": "markdown",
   "metadata": {},
   "source": [
    "#### Method1"
   ]
  },
  {
   "cell_type": "code",
   "execution_count": null,
   "metadata": {
    "id": "vFvjFQopxVrt"
   },
   "outputs": [],
   "source": [
    "print('\\nload model ...')\n",
    "best_model = tf.keras.models.load_model(checkpoint_filepath)"
   ]
  },
  {
   "cell_type": "markdown",
   "metadata": {},
   "source": [
    "#### Method2"
   ]
  },
  {
   "cell_type": "code",
   "execution_count": 74,
   "metadata": {},
   "outputs": [
    {
     "name": "stdout",
     "output_type": "stream",
     "text": [
      "WARNING:tensorflow:Unresolved object in checkpoint: (root).optimizer.iter\n",
      "WARNING:tensorflow:Unresolved object in checkpoint: (root).optimizer.beta_1\n",
      "WARNING:tensorflow:Unresolved object in checkpoint: (root).optimizer.beta_2\n",
      "WARNING:tensorflow:Unresolved object in checkpoint: (root).optimizer.decay\n",
      "WARNING:tensorflow:Unresolved object in checkpoint: (root).optimizer.learning_rate\n",
      "WARNING:tensorflow:A checkpoint was restored (e.g. tf.train.Checkpoint.restore or tf.keras.Model.load_weights) but not all checkpointed values were used. See above for specific issues. Use expect_partial() on the load status object, e.g. tf.train.Checkpoint.restore(...).expect_partial(), to silence these warnings, or use assert_consumed() to make the check explicit. See https://www.tensorflow.org/guide/checkpoint#loading_mechanics for details.\n",
      "Model: \"functional_1\"\n",
      "_________________________________________________________________\n",
      "Layer (type)                 Output Shape              Param #   \n",
      "=================================================================\n",
      "input_1 (InputLayer)         [(None, 20)]              0         \n",
      "_________________________________________________________________\n",
      "embedding_1 (Embedding)      (None, 20, 250)           13944750  \n",
      "_________________________________________________________________\n",
      "dropout (Dropout)            (None, 20, 250)           0         \n",
      "_________________________________________________________________\n",
      "bidirectional (Bidirectional (None, 20, 192)           266496    \n",
      "_________________________________________________________________\n",
      "layer_normalization (LayerNo (None, 20, 192)           40        \n",
      "_________________________________________________________________\n",
      "bidirectional_1 (Bidirection (None, 384)               591360    \n",
      "_________________________________________________________________\n",
      "layer_normalization_1 (Layer (None, 384)               768       \n",
      "_________________________________________________________________\n",
      "dense (Dense)                (None, 1)                 385       \n",
      "=================================================================\n",
      "Total params: 14,803,799\n",
      "Trainable params: 859,049\n",
      "Non-trainable params: 13,944,750\n",
      "_________________________________________________________________\n"
     ]
    }
   ],
   "source": [
    "# Get the optimal hyperparameters\n",
    "best_model = tuner.get_best_models()[0]\n",
    "best_model.summary()"
   ]
  },
  {
   "cell_type": "code",
   "execution_count": 67,
   "metadata": {},
   "outputs": [
    {
     "name": "stdout",
     "output_type": "stream",
     "text": [
      "best dp = 0.5504156686436646\n",
      "best lstm1 = 96\n",
      "best lstm2 = 192\n",
      "best lr = 0.0028506288262581062\n"
     ]
    }
   ],
   "source": [
    "best_hp = tuner.get_best_hyperparameters(num_trials = 1)[0]\n",
    "hyper_parameters = ['dp', 'lstm1', 'lstm2', 'lr']\n",
    "\n",
    "for hp in hyper_parameters:\n",
    "    print(f\"best {hp} = {best_hp.get(hp)}\")"
   ]
  },
  {
   "cell_type": "markdown",
   "metadata": {},
   "source": [
    "## Semi-supervised Learning \n",
    "We can further train the model using the training data without label"
   ]
  },
  {
   "cell_type": "markdown",
   "metadata": {},
   "source": [
    "### Semi-supervised Learning"
   ]
  },
  {
   "cell_type": "code",
   "execution_count": 39,
   "metadata": {},
   "outputs": [],
   "source": [
    "threshold_semi_learning = 0.9"
   ]
  },
  {
   "cell_type": "code",
   "execution_count": 28,
   "metadata": {},
   "outputs": [
    {
     "name": "stdout",
     "output_type": "stream",
     "text": [
      "\n"
     ]
    }
   ],
   "source": [
    "X_train_no_label_idx = preprocessor.sentences_word2idx(train_x_no_label)"
   ]
  },
  {
   "cell_type": "code",
   "execution_count": 29,
   "metadata": {},
   "outputs": [],
   "source": [
    "train_no_label_dataset = tf.data.Dataset.from_tensor_slices(X_train_no_label_idx)\n",
    "train_no_label_dataset = train_no_label_dataset.batch(batch_size)\n",
    "train_no_label_dataset = train_no_label_dataset.cache().prefetch(AUTOTUNE)"
   ]
  },
  {
   "cell_type": "code",
   "execution_count": null,
   "metadata": {},
   "outputs": [],
   "source": [
    "pred_train_no_label = best_model.predict(train_no_label_dataset)"
   ]
  },
  {
   "cell_type": "code",
   "execution_count": 46,
   "metadata": {},
   "outputs": [],
   "source": [
    "pred_prob_train_no_label = tf.sigmoid(pred_train_no_label)"
   ]
  },
  {
   "cell_type": "code",
   "execution_count": 51,
   "metadata": {},
   "outputs": [
    {
     "name": "stdout",
     "output_type": "stream",
     "text": [
      "487477\n"
     ]
    }
   ],
   "source": [
    "X_high_conf_ind = []\n",
    "y_high_conf = []\n",
    "\n",
    "for i, prob in enumerate(pred_prob_train_no_label):\n",
    "    if prob > threshold_semi_learning:\n",
    "        X_high_conf_ind.append(X_train_no_label_idx[i])\n",
    "        y_high_conf.append(1)\n",
    "    elif prob < (1 - threshold_semi_learning):\n",
    "        X_high_conf_ind.append(X_train_no_label_idx[i])\n",
    "        y_high_conf.append(0)\n",
    "    \n",
    "print(len(X_high_conf_ind))"
   ]
  },
  {
   "cell_type": "markdown",
   "metadata": {},
   "source": [
    "### Combine self-training data and training dataset"
   ]
  },
  {
   "cell_type": "code",
   "execution_count": 93,
   "metadata": {},
   "outputs": [],
   "source": [
    "X_total_train_idx = np.vstack((X_train_idx, np.array(X_high_conf_ind)))\n",
    "y_total_train = y_train + y_high_conf\n",
    "\n",
    "X_total_train_idx_dataset = tf.data.Dataset.from_tensor_slices(X_total_train_idx)\n",
    "y_total_train_dataset = tf.data.Dataset.from_tensor_slices(y_total_train)\n",
    "total_train_dataset = tf.data.Dataset.zip((X_total_train_idx_dataset, y_total_train_dataset))\n",
    "\n",
    "total_train_dataset = total_train_dataset.batch(batch_size)\n",
    "total_train_dataset = total_train_dataset.cache().prefetch(AUTOTUNE)"
   ]
  },
  {
   "cell_type": "markdown",
   "metadata": {},
   "source": [
    "### Train the model again"
   ]
  },
  {
   "cell_type": "code",
   "execution_count": 96,
   "metadata": {},
   "outputs": [
    {
     "name": "stdout",
     "output_type": "stream",
     "text": [
      "Model: \"functional_7\"\n",
      "_________________________________________________________________\n",
      "Layer (type)                 Output Shape              Param #   \n",
      "=================================================================\n",
      "input_4 (InputLayer)         [(None, 20)]              0         \n",
      "_________________________________________________________________\n",
      "embedding_2 (Embedding)      (None, 20, 250)           13944750  \n",
      "_________________________________________________________________\n",
      "dropout_3 (Dropout)          (None, 20, 250)           0         \n",
      "_________________________________________________________________\n",
      "bidirectional_6 (Bidirection (None, 20, 192)           266496    \n",
      "_________________________________________________________________\n",
      "layer_normalization_6 (Layer (None, 20, 192)           40        \n",
      "_________________________________________________________________\n",
      "bidirectional_7 (Bidirection (None, 384)               591360    \n",
      "_________________________________________________________________\n",
      "layer_normalization_7 (Layer (None, 384)               768       \n",
      "_________________________________________________________________\n",
      "dense_3 (Dense)              (None, 1)                 385       \n",
      "=================================================================\n",
      "Total params: 14,803,799\n",
      "Trainable params: 859,049\n",
      "Non-trainable params: 13,944,750\n",
      "_________________________________________________________________\n"
     ]
    }
   ],
   "source": [
    "best_dp = 0.5504156686436646\n",
    "best_lstm1 = 96\n",
    "best_lstm2 = 192\n",
    "best_lr = 0.0028506288262581062\n",
    "\n",
    "full_train_model = buildModel(embedding, train_embedding, sen_len, best_lstm1, best_lstm2, best_dp, best_lr)\n",
    "\n",
    "full_train_model.summary()"
   ]
  },
  {
   "cell_type": "code",
   "execution_count": 97,
   "metadata": {},
   "outputs": [],
   "source": [
    "history = full_train_model.fit(total_train_dataset, \n",
    "                               epochs = 10,\n",
    "                               verbose = 0)"
   ]
  },
  {
   "cell_type": "code",
   "execution_count": 98,
   "metadata": {},
   "outputs": [
    {
     "name": "stdout",
     "output_type": "stream",
     "text": [
      "157/157 [==============================] - ETA: 0s - loss: 1.2303 - accuracy: 0.80 - ETA: 3s - loss: 1.2750 - accuracy: 0.79 - ETA: 4s - loss: 1.2813 - accuracy: 0.78 - ETA: 4s - loss: 1.2508 - accuracy: 0.78 - ETA: 4s - loss: 1.2010 - accuracy: 0.79 - ETA: 4s - loss: 1.1838 - accuracy: 0.79 - ETA: 4s - loss: 1.2008 - accuracy: 0.79 - ETA: 4s - loss: 1.2205 - accuracy: 0.78 - ETA: 4s - loss: 1.2090 - accuracy: 0.78 - ETA: 4s - loss: 1.2469 - accuracy: 0.77 - ETA: 4s - loss: 1.2434 - accuracy: 0.77 - ETA: 4s - loss: 1.2518 - accuracy: 0.77 - ETA: 4s - loss: 1.2337 - accuracy: 0.77 - ETA: 4s - loss: 1.2074 - accuracy: 0.78 - ETA: 4s - loss: 1.2215 - accuracy: 0.77 - ETA: 4s - loss: 1.2118 - accuracy: 0.77 - ETA: 4s - loss: 1.2080 - accuracy: 0.78 - ETA: 4s - loss: 1.2077 - accuracy: 0.78 - ETA: 4s - loss: 1.1992 - accuracy: 0.78 - ETA: 4s - loss: 1.2072 - accuracy: 0.78 - ETA: 4s - loss: 1.2199 - accuracy: 0.77 - ETA: 4s - loss: 1.2350 - accuracy: 0.77 - ETA: 4s - loss: 1.2271 - accuracy: 0.77 - ETA: 4s - loss: 1.2232 - accuracy: 0.77 - ETA: 3s - loss: 1.2239 - accuracy: 0.77 - ETA: 3s - loss: 1.2303 - accuracy: 0.77 - ETA: 3s - loss: 1.2369 - accuracy: 0.77 - ETA: 3s - loss: 1.2286 - accuracy: 0.77 - ETA: 3s - loss: 1.2230 - accuracy: 0.77 - ETA: 3s - loss: 1.2270 - accuracy: 0.77 - ETA: 3s - loss: 1.2307 - accuracy: 0.77 - ETA: 3s - loss: 1.2339 - accuracy: 0.77 - ETA: 3s - loss: 1.2331 - accuracy: 0.77 - ETA: 3s - loss: 1.2326 - accuracy: 0.77 - ETA: 3s - loss: 1.2345 - accuracy: 0.77 - ETA: 3s - loss: 1.2341 - accuracy: 0.77 - ETA: 3s - loss: 1.2382 - accuracy: 0.77 - ETA: 3s - loss: 1.2304 - accuracy: 0.77 - ETA: 2s - loss: 1.2293 - accuracy: 0.77 - ETA: 2s - loss: 1.2311 - accuracy: 0.77 - ETA: 2s - loss: 1.2282 - accuracy: 0.77 - ETA: 2s - loss: 1.2251 - accuracy: 0.77 - ETA: 2s - loss: 1.2256 - accuracy: 0.77 - ETA: 2s - loss: 1.2345 - accuracy: 0.77 - ETA: 2s - loss: 1.2336 - accuracy: 0.77 - ETA: 2s - loss: 1.2285 - accuracy: 0.77 - ETA: 2s - loss: 1.2285 - accuracy: 0.77 - ETA: 2s - loss: 1.2302 - accuracy: 0.77 - ETA: 2s - loss: 1.2303 - accuracy: 0.77 - ETA: 2s - loss: 1.2298 - accuracy: 0.77 - ETA: 2s - loss: 1.2293 - accuracy: 0.77 - ETA: 2s - loss: 1.2340 - accuracy: 0.77 - ETA: 1s - loss: 1.2363 - accuracy: 0.77 - ETA: 1s - loss: 1.2337 - accuracy: 0.77 - ETA: 1s - loss: 1.2354 - accuracy: 0.77 - ETA: 1s - loss: 1.2376 - accuracy: 0.77 - ETA: 1s - loss: 1.2376 - accuracy: 0.77 - ETA: 1s - loss: 1.2399 - accuracy: 0.77 - ETA: 1s - loss: 1.2414 - accuracy: 0.77 - ETA: 1s - loss: 1.2410 - accuracy: 0.77 - ETA: 1s - loss: 1.2436 - accuracy: 0.77 - ETA: 1s - loss: 1.2452 - accuracy: 0.77 - ETA: 1s - loss: 1.2441 - accuracy: 0.77 - ETA: 1s - loss: 1.2447 - accuracy: 0.77 - ETA: 1s - loss: 1.2450 - accuracy: 0.77 - ETA: 0s - loss: 1.2449 - accuracy: 0.77 - ETA: 0s - loss: 1.2476 - accuracy: 0.77 - ETA: 0s - loss: 1.2468 - accuracy: 0.77 - ETA: 0s - loss: 1.2454 - accuracy: 0.77 - ETA: 0s - loss: 1.2438 - accuracy: 0.77 - ETA: 0s - loss: 1.2451 - accuracy: 0.77 - ETA: 0s - loss: 1.2431 - accuracy: 0.77 - ETA: 0s - loss: 1.2439 - accuracy: 0.77 - ETA: 0s - loss: 1.2429 - accuracy: 0.77 - ETA: 0s - loss: 1.2420 - accuracy: 0.77 - ETA: 0s - loss: 1.2444 - accuracy: 0.77 - ETA: 0s - loss: 1.2419 - accuracy: 0.77 - ETA: 0s - loss: 1.2404 - accuracy: 0.77 - ETA: 0s - loss: 1.2404 - accuracy: 0.77 - 6s 37ms/step - loss: 1.2404 - accuracy: 0.7740\n",
      "loss = 1.2404394149780273\n",
      "accuracy = 0.7740499973297119\n"
     ]
    }
   ],
   "source": [
    "metrics = full_train_model.metrics_names\n",
    "results = full_train_model.evaluate(val_dataset)\n",
    "\n",
    "for key, val in zip(metrics, results):\n",
    "    print(f\"{key} = {val}\")"
   ]
  },
  {
   "cell_type": "code",
   "execution_count": 99,
   "metadata": {},
   "outputs": [],
   "source": [
    "best_model = full_train_model"
   ]
  },
  {
   "cell_type": "code",
   "execution_count": 110,
   "metadata": {},
   "outputs": [
    {
     "data": {
      "image/png": "[encoded data removed]",
      "text/plain": [
       "<Figure size 432x288 with 2 Axes>"
      ]
     },
     "metadata": {
      "needs_background": "light"
     },
     "output_type": "display_data"
    }
   ],
   "source": [
    "loss_history = history.history['loss']\n",
    "acc_history = history.history['accuracy']\n",
    "\n",
    "fig, ax = plt.subplots(2, 1, constrained_layout=True)\n",
    "\n",
    "ax[0].plot(loss_history)\n",
    "ax[0].set_title('loss history')\n",
    "ax[1].plot(acc_history)\n",
    "ax[1].set_title('accuracy history')\n",
    "\n",
    "plt.show()"
   ]
  },
  {
   "cell_type": "markdown",
   "metadata": {},
   "source": [
    "## Testing"
   ]
  },
  {
   "cell_type": "markdown",
   "metadata": {},
   "source": [
    "### Preprocess test dataset"
   ]
  },
  {
   "cell_type": "code",
   "execution_count": 19,
   "metadata": {
    "id": "vFvjFQopxVrt"
   },
   "outputs": [
    {
     "name": "stdout",
     "output_type": "stream",
     "text": [
      "loading testing data ...\n",
      "\n"
     ]
    }
   ],
   "source": [
    "print(\"loading testing data ...\")\n",
    "X_test = load_testing_data(testing_data)\n",
    "X_test_idx = preprocessor.sentences_word2idx(X_test)"
   ]
  },
  {
   "cell_type": "code",
   "execution_count": 20,
   "metadata": {},
   "outputs": [],
   "source": [
    "test_dataset = tf.data.Dataset.from_tensor_slices(X_test_idx)\n",
    "test_dataset = test_dataset.batch(batch_size)\n",
    "test_dataset = test_dataset.cache().prefetch(AUTOTUNE)"
   ]
  },
  {
   "cell_type": "markdown",
   "metadata": {},
   "source": [
    "### Make prediction"
   ]
  },
  {
   "cell_type": "code",
   "execution_count": 100,
   "metadata": {},
   "outputs": [],
   "source": [
    "outputs = testing(best_model, test_dataset)"
   ]
  },
  {
   "cell_type": "code",
   "execution_count": 101,
   "metadata": {
    "id": "vFvjFQopxVrt"
   },
   "outputs": [
    {
     "name": "stdout",
     "output_type": "stream",
     "text": [
      "save csv ...\n",
      "Finish Predicting\n"
     ]
    }
   ],
   "source": [
    "# Write the result to a CSV file\n",
    "tmp = pd.DataFrame({\"id\":[str(i) for i in range(len(X_test))],\"label\":outputs})\n",
    "print(\"save csv ...\")\n",
    "tmp.to_csv(os.path.join(path_prefix, 'predict.csv'), index=False)\n",
    "print(\"Finish Predicting\")"
   ]
  }
 ],
 "metadata": {
  "accelerator": "GPU",
  "colab": {
   "collapsed_sections": [],
   "name": "HW4_RNN.ipynb",
   "provenance": [
    {
     "file_id": "16d1Xox0OW-VNuxDn1pvy2UXFIPfieCb9",
     "timestamp": 1604814490480
    }
   ]
  },
  "kernelspec": {
   "display_name": "Python 3",
   "language": "python",
   "name": "python3"
  },
  "language_info": {
   "codemirror_mode": {
    "name": "ipython",
    "version": 3
   },
   "file_extension": ".py",
   "mimetype": "text/x-python",
   "name": "python",
   "nbconvert_exporter": "python",
   "pygments_lexer": "ipython3",
   "version": "3.6.9"
  }
 },
 "nbformat": 4,
 "nbformat_minor": 1
}
